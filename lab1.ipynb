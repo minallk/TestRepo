{
    "cells": [
        {
            "cell_type": "markdown",
            "metadata": {},
            "source": "# My Jupyter Notebook on IBM Watson Studio"
        },
        {
            "cell_type": "markdown",
            "metadata": {},
            "source": "MINAL - Senior Business Intelligence Consultant"
        },
        {
            "cell_type": "markdown",
            "metadata": {},
            "source": "*I am interested in data science because data amazes me ad we can solve the problems by alalyzing ,engineering data and forecasting the solutions*"
        },
        {
            "cell_type": "markdown",
            "metadata": {},
            "source": "### My code below is suppose to subtract two numbers - 5000,2224"
        },
        {
            "cell_type": "code",
            "execution_count": 5,
            "metadata": {},
            "outputs": [
                {
                    "data": {
                        "text/plain": "2776"
                    },
                    "execution_count": 5,
                    "metadata": {},
                    "output_type": "execute_result"
                }
            ],
            "source": "5000-2224"
        },
        {
            "cell_type": "markdown",
            "metadata": {},
            "source": "I like [Google] (https://www.google.com/)   "
        },
        {
            "cell_type": "markdown",
            "metadata": {},
            "source": "- Python\n- R"
        },
        {
            "cell_type": "markdown",
            "metadata": {},
            "source": "1 Python\n2 R"
        },
        {
            "cell_type": "markdown",
            "metadata": {},
            "source": "~~ End of Assignment ~~"
        }
    ],
    "metadata": {
        "kernelspec": {
            "display_name": "Python 3.7",
            "language": "python",
            "name": "python3"
        },
        "language_info": {
            "codemirror_mode": {
                "name": "ipython",
                "version": 3
            },
            "file_extension": ".py",
            "mimetype": "text/x-python",
            "name": "python",
            "nbconvert_exporter": "python",
            "pygments_lexer": "ipython3",
            "version": "3.7.10"
        }
    },
    "nbformat": 4,
    "nbformat_minor": 1
}